{
 "cells": [
  {
   "cell_type": "code",
   "execution_count": 1,
   "id": "44182d68-eb23-4b21-ad81-66957e153bb1",
   "metadata": {
    "tags": []
   },
   "outputs": [],
   "source": [
    "%%capture\n",
    "!python3 -m pip install pandas numpy matplotlib tensorflow tqdm bs4 IP2Location"
   ]
  },
  {
   "cell_type": "code",
   "execution_count": 2,
   "id": "05022e96-8ef9-4e5f-80a6-3faa1d1d8810",
   "metadata": {
    "tags": []
   },
   "outputs": [
    {
     "name": "stderr",
     "output_type": "stream",
     "text": [
      "2023-03-27 00:40:09.424637: W tensorflow/stream_executor/platform/default/dso_loader.cc:64] Could not load dynamic library 'libcudart.so.11.0'; dlerror: libcudart.so.11.0: cannot open shared object file: No such file or directory\n",
      "2023-03-27 00:40:09.424671: I tensorflow/stream_executor/cuda/cudart_stub.cc:29] Ignore above cudart dlerror if you do not have a GPU set up on your machine.\n"
     ]
    }
   ],
   "source": [
    "import requests\n",
    "import urllib3\n",
    "from urllib.parse import urlparse, urljoin\n",
    "import socket\n",
    "\n",
    "from bs4 import BeautifulSoup\n",
    "import chardet\n",
    "import re\n",
    "import json\n",
    "\n",
    "import math\n",
    "import statistics\n",
    "\n",
    "import os\n",
    "import IP2Location\n",
    "\n",
    "import pandas as pd\n",
    "import numpy as np\n",
    "\n",
    "from tqdm.notebook import tqdm\n",
    "\n",
    "import tensorflow as tf\n",
    "from tensorflow.keras import Sequential\n",
    "import tensorflow.keras.layers\n",
    "import tensorflow.keras.losses\n",
    "\n",
    "from matplotlib import pyplot\n",
    "\n",
    "from sklearn.model_selection import train_test_split, KFold\n",
    "\n",
    "from tensorflow.python.ops.numpy_ops import np_config\n",
    "np_config.enable_numpy_behavior()\n",
    "\n",
    "import warnings\n",
    "warnings.filterwarnings(action=\"ignore\", module=\"urllib3\")"
   ]
  },
  {
   "cell_type": "code",
   "execution_count": 3,
   "id": "ce7622d0-b100-4b6d-b612-22911428a497",
   "metadata": {
    "tags": []
   },
   "outputs": [],
   "source": [
    "DOWNLOAD_CHUNK_SIZE = 50\n",
    "TIMEOUT = (10, 10)"
   ]
  },
  {
   "cell_type": "code",
   "execution_count": 4,
   "id": "5154d2a2-1c48-4ec9-8e32-0e73bb1ebfde",
   "metadata": {
    "tags": []
   },
   "outputs": [],
   "source": [
    "ip2location_database = IP2Location.IP2Location()\n",
    "ip2location_database.open(os.path.join(\"location_data\", \"IP2LOCATION-LITE-DB11.BIN\"))\n",
    "def get_location(ip_addr=None, hostname=None):\n",
    "    if(ip_addr is None and hostname is not None):\n",
    "        try:\n",
    "            ip_addr = socket.gethostbyname(hostname)\n",
    "        except socket.error:\n",
    "            print(\"Socket Error\")\n",
    "            return None\n",
    "    location_data = ip2location_database.get_all(ip_addr)\n",
    "    if(location_data.country_short == \"-\"):\n",
    "        if(not ip_addr in location_database):\n",
    "            location_data = requests.get(\"https://ipinfo.io/\"+ip_addr+\"/json\").json()\n",
    "            if(\"error\" in location_data):\n",
    "                raise Exception(\"Failed because error with download (probably daily api quota exceded)\")\n",
    "            location_database[ip_addr] = location_data\n",
    "            location_database[ip_addr][\"country_short\"] = location_data[\"country\"]\n",
    "            location_database[ip_addr][\"latitude\"], location_database[ip_addr][\"longitude\"] = tuple(location_data[\"loc\"].split(\",\"))\n",
    "    else:\n",
    "        return json.loads(str(location_data).replace(\"'\", \"\\\"\"))\n",
    "    return location_database[ip_addr]"
   ]
  },
  {
   "cell_type": "code",
   "execution_count": 5,
   "id": "650c6240-a1d3-49ee-8166-7d3add259a66",
   "metadata": {},
   "outputs": [],
   "source": [
    "def get_absolute_url_from_relative(original_url, new_url):\n",
    "    if(new_url.startswith(\"javascript\")):\n",
    "        return None\n",
    "    if(new_url.startswith(\"http\")):\n",
    "        return new_url\n",
    "    url_with_scheme = \"http://\"+original_url if not original_url.startswith(\"http\") else original_url\n",
    "    parsed_url = urlparse(url_with_scheme)\n",
    "    url_scheme = parsed_url.scheme\n",
    "    url_host = parsed_url.netloc\n",
    "    \n",
    "    return urljoin(url_scheme+\"://\"+url_host, new_url)"
   ]
  },
  {
   "cell_type": "code",
   "execution_count": 6,
   "id": "a87109bb-9c26-4b78-a57f-28d53e6b4f22",
   "metadata": {
    "tags": []
   },
   "outputs": [],
   "source": [
    "def download_aux_data(content, original_url):\n",
    "    aux = []\n",
    "    soup = BeautifulSoup(content, 'html.parser')\n",
    "    for a in tqdm(soup.find_all('a')):\n",
    "        href = a.get('href')\n",
    "        if(href is not None):\n",
    "            url = get_absolute_url_from_relative(original_url, href)\n",
    "            if(url is not None):\n",
    "                hostname = urlparse(url).netloc\n",
    "                json = get_location(hostname=hostname)\n",
    "                if(json is None):\n",
    "                    continue\n",
    "                try:\n",
    "                    columns = [\n",
    "                        \"hostname_\"+hostname,\n",
    "                        \"ip_addr_\"+json[\"ip\"],\n",
    "                        \"latitude_\"+json[\"latitude\"],\n",
    "                        \"longitude\"+json[\"longitude\"],\n",
    "                        \"city_\"+json[\"city\"],\n",
    "                        \"region_\"+json[\"region\"],\n",
    "                        \"country_\"+json[\"country_short\"],\n",
    "                    ]\n",
    "                except KeyError:\n",
    "                    print(\"Problem with JSON: \", json)\n",
    "                    columns = []\n",
    "                \n",
    "                columns = [ re.compile('[\\W_]+').sub('_', column) for column in columns ]\n",
    "                \n",
    "                aux = aux + columns\n",
    "                \n",
    "    return \" \".join(aux)"
   ]
  },
  {
   "cell_type": "code",
   "execution_count": 7,
   "id": "6dfc97b4-6cad-49b4-bc67-bdb5916e5faf",
   "metadata": {
    "tags": []
   },
   "outputs": [],
   "source": [
    "def download_one(original_url, timeout=TIMEOUT):\n",
    "    row = {}\n",
    "    row[\"attempted_download\"] = True\n",
    "\n",
    "    url_with_scheme = \"http://\"+original_url if not original_url.startswith(\"http\") else original_url\n",
    "    parsed_url = urlparse(url_with_scheme)\n",
    "    hostname = parsed_url.netloc\n",
    "    \n",
    "    try:\n",
    "        row[\"hostname\"] = hostname\n",
    "\n",
    "        ip_addr = socket.gethostbyname(hostname)\n",
    "        row[\"ip_addr\"] = ip_addr\n",
    "\n",
    "        r = requests.get(url_with_scheme, verify=False, timeout=timeout)\n",
    "\n",
    "        row[\"status_code\"] = r.status_code\n",
    "        encoding = chardet.detect(r.content)['encoding']\n",
    "        if(encoding == None):\n",
    "            print(\"Decoding Error\")\n",
    "        try:\n",
    "            content = r.content.decode(encoding)\n",
    "            row[\"content\"] = content\n",
    "        except:\n",
    "            try:\n",
    "                content = r.content.decode(\"utf\")\n",
    "            except:\n",
    "                content = None\n",
    "                print(\"Decoding Error\")\n",
    "            \n",
    "        if(content is not None):\n",
    "            row[\"aux\"] = download_aux_data(content, original_url)\n",
    "            row[\"words\"] = \" \".join(re.compile('[\\W_]+').sub(' ', BeautifulSoup(content, 'html.parser').get_text()).split(\" \"))\n",
    "        \n",
    "        redirects = 0\n",
    "        for r_history in r.history:\n",
    "            if(r_history.status_code == 301):\n",
    "                redirects = redirects + 1\n",
    "        row[\"redirects\"] = redirects\n",
    "\n",
    "        json = get_location(ip_addr=ip_addr)\n",
    "        if(json is None):\n",
    "            return row\n",
    "        try:\n",
    "            row[\"latitude\"] = json[\"latitude\"]\n",
    "            row[\"longitude\"] = json[\"longitude\"]\n",
    "            row[\"city\"] = json[\"city\"]\n",
    "            row[\"region\"] = json[\"region\"]\n",
    "            row[\"country\"] = json[\"country_short\"]\n",
    "\n",
    "        except KeyError:\n",
    "            print(\"Problem with JSON: \", json)\n",
    "        \n",
    "            \n",
    "        \n",
    "\n",
    "    except socket.error:\n",
    "        print(\"Socket Error\")\n",
    "        \n",
    "    except UnicodeError:\n",
    "        print(\"Unicode Error\")\n",
    "    \n",
    "    return row"
   ]
  },
  {
   "cell_type": "code",
   "execution_count": 8,
   "id": "82aed87d-1e4e-4155-a932-be6f12f30526",
   "metadata": {
    "tags": []
   },
   "outputs": [],
   "source": [
    "#raw_data.loc[raw_data[raw_data[\"attempted_download\"] == True].index[-500:], \"attempted_download\"] = False\n",
    "#raw_data\n",
    "#raw_data.to_csv(\"./data.csv\")"
   ]
  },
  {
   "cell_type": "code",
   "execution_count": 9,
   "id": "2ddc8223-179e-4c0d-800e-ac4d542f1419",
   "metadata": {
    "tags": []
   },
   "outputs": [],
   "source": [
    "def download_chunk(chunk_size=DOWNLOAD_CHUNK_SIZE, timeout=TIMEOUT):\n",
    "    global raw_data\n",
    "    if(len(raw_data[raw_data[\"attempted_download\"] == True].index) != 0):\n",
    "          start = raw_data[raw_data[\"attempted_download\"] == True].index[-1]+1\n",
    "    end = start + chunk_size\n",
    "    end = end if len(raw_data[\"url\"]) > end else len(raw_data[\"url\"])\n",
    "    \n",
    "    print(\"Downloading %d more rows ([%d:%d])\" % (chunk_size, start, end))\n",
    "    for row_index in tqdm(range(start, end)):\n",
    "        row = download_one(raw_data.loc[row_index, \"url\"], timeout=timeout)\n",
    "        if(len(list(row)) > 0):\n",
    "            raw_data.loc[row_index, list(row)] = row.values()"
   ]
  },
  {
   "cell_type": "code",
   "execution_count": 10,
   "id": "f565d439-ff36-4cb4-9932-c34d8ceccddd",
   "metadata": {
    "tags": []
   },
   "outputs": [],
   "source": [
    "def load_data():\n",
    "    global raw_data, location_database\n",
    "    \n",
    "    raw_data = pd.read_csv(\"./raw_data.csv\")\n",
    "    raw_data[\"attempted_download\"] = False\n",
    "    \n",
    "    try:\n",
    "        with open(\"./location_data.json\", 'r') as file:\n",
    "            location_database = json.load(file)\n",
    "        file.close()\n",
    "    except FileNotFoundError:\n",
    "        location_database = {}\n",
    "\n",
    "    try:\n",
    "        raw_data = pd.read_csv(\"./data.csv\", index_col=0)\n",
    "        if(DOWNLOAD_CHUNK_SIZE > 0):\n",
    "            download_chunk()\n",
    "            raw_data.to_csv(\"./data.csv\")\n",
    "            with open(\"./location_data.json\", 'w') as file:\n",
    "                json.dump(location_database, file)\n",
    "            file.close()\n",
    "\n",
    "    except FileNotFoundError:\n",
    "        download_chunk()\n",
    "        raw_data.to_csv(\"./data.csv\")\n",
    "        with open(\"./location_data.json\", 'w') as file:\n",
    "            json.dump(location_database, file)\n",
    "        file.close()\n",
    "\n",
    "    data = raw_data.copy()\n",
    "    data = data.dropna()\n",
    "    data = data.drop(\"attempted_download\", axis=1)\n",
    "    data = data[data[\"status_code\"] == 200]\n",
    "    data = data.drop(\"status_code\", axis=1)\n",
    "    data = data.reset_index(drop=True)\n",
    "    data[\"redirects\"] = data[\"redirects\"].astype(str)\n",
    "    return data"
   ]
  },
  {
   "cell_type": "code",
   "execution_count": 11,
   "id": "2f9a1013-edf5-42a7-af55-43920bdfb62a",
   "metadata": {
    "tags": []
   },
   "outputs": [],
   "source": [
    "# raw_data = pd.read_csv(\"./data.csv\", index_col=0)\n",
    "# loc = raw_data[raw_data[\"loc\"].notna()][\"loc\"].str.split(\",\", expand=True)\n",
    "# raw_data[\"latitude\"] = loc[0]\n",
    "# raw_data[\"longitude\"] = loc[1]\n",
    "# raw_data = raw_data.drop(\"loc\", axis=1)\n",
    "# raw_data.to_csv(\"./data.csv\")"
   ]
  },
  {
   "cell_type": "code",
   "execution_count": 12,
   "id": "92d06669-993a-4236-b09f-72fe56d183ea",
   "metadata": {
    "tags": []
   },
   "outputs": [
    {
     "data": {
      "text/html": [
       "<div>\n",
       "<style scoped>\n",
       "    .dataframe tbody tr th:only-of-type {\n",
       "        vertical-align: middle;\n",
       "    }\n",
       "\n",
       "    .dataframe tbody tr th {\n",
       "        vertical-align: top;\n",
       "    }\n",
       "\n",
       "    .dataframe thead th {\n",
       "        text-align: right;\n",
       "    }\n",
       "</style>\n",
       "<table border=\"1\" class=\"dataframe\">\n",
       "  <thead>\n",
       "    <tr style=\"text-align: right;\">\n",
       "      <th></th>\n",
       "      <th>url</th>\n",
       "      <th>type</th>\n",
       "    </tr>\n",
       "  </thead>\n",
       "  <tbody>\n",
       "    <tr>\n",
       "      <th>0</th>\n",
       "      <td>br-icloud.com.br</td>\n",
       "      <td>phishing</td>\n",
       "    </tr>\n",
       "    <tr>\n",
       "      <th>1</th>\n",
       "      <td>mp3raid.com/music/krizz_kaliko.html</td>\n",
       "      <td>benign</td>\n",
       "    </tr>\n",
       "    <tr>\n",
       "      <th>2</th>\n",
       "      <td>bopsecrets.org/rexroth/cr/1.htm</td>\n",
       "      <td>benign</td>\n",
       "    </tr>\n",
       "    <tr>\n",
       "      <th>3</th>\n",
       "      <td>http://www.garage-pirenne.be/index.php?option=...</td>\n",
       "      <td>defacement</td>\n",
       "    </tr>\n",
       "    <tr>\n",
       "      <th>4</th>\n",
       "      <td>http://adventure-nicaragua.net/index.php?optio...</td>\n",
       "      <td>defacement</td>\n",
       "    </tr>\n",
       "    <tr>\n",
       "      <th>...</th>\n",
       "      <td>...</td>\n",
       "      <td>...</td>\n",
       "    </tr>\n",
       "    <tr>\n",
       "      <th>651186</th>\n",
       "      <td>xbox360.ign.com/objects/850/850402.html</td>\n",
       "      <td>phishing</td>\n",
       "    </tr>\n",
       "    <tr>\n",
       "      <th>651187</th>\n",
       "      <td>games.teamxbox.com/xbox-360/1860/Dead-Space/</td>\n",
       "      <td>phishing</td>\n",
       "    </tr>\n",
       "    <tr>\n",
       "      <th>651188</th>\n",
       "      <td>www.gamespot.com/xbox360/action/deadspace/</td>\n",
       "      <td>phishing</td>\n",
       "    </tr>\n",
       "    <tr>\n",
       "      <th>651189</th>\n",
       "      <td>en.wikipedia.org/wiki/Dead_Space_(video_game)</td>\n",
       "      <td>phishing</td>\n",
       "    </tr>\n",
       "    <tr>\n",
       "      <th>651190</th>\n",
       "      <td>www.angelfire.com/goth/devilmaycrytonite/</td>\n",
       "      <td>phishing</td>\n",
       "    </tr>\n",
       "  </tbody>\n",
       "</table>\n",
       "<p>651191 rows × 2 columns</p>\n",
       "</div>"
      ],
      "text/plain": [
       "                                                      url        type\n",
       "0                                        br-icloud.com.br    phishing\n",
       "1                     mp3raid.com/music/krizz_kaliko.html      benign\n",
       "2                         bopsecrets.org/rexroth/cr/1.htm      benign\n",
       "3       http://www.garage-pirenne.be/index.php?option=...  defacement\n",
       "4       http://adventure-nicaragua.net/index.php?optio...  defacement\n",
       "...                                                   ...         ...\n",
       "651186            xbox360.ign.com/objects/850/850402.html    phishing\n",
       "651187       games.teamxbox.com/xbox-360/1860/Dead-Space/    phishing\n",
       "651188         www.gamespot.com/xbox360/action/deadspace/    phishing\n",
       "651189      en.wikipedia.org/wiki/Dead_Space_(video_game)    phishing\n",
       "651190          www.angelfire.com/goth/devilmaycrytonite/    phishing\n",
       "\n",
       "[651191 rows x 2 columns]"
      ]
     },
     "execution_count": 12,
     "metadata": {},
     "output_type": "execute_result"
    }
   ],
   "source": [
    "raw_data = pd.read_csv(\"./raw_data.csv\")\n",
    "raw_data"
   ]
  },
  {
   "cell_type": "code",
   "execution_count": 13,
   "id": "05abf388-7d09-4fb1-8370-f8ee06be607a",
   "metadata": {
    "tags": []
   },
   "outputs": [
    {
     "name": "stderr",
     "output_type": "stream",
     "text": [
      "/tmp/ipykernel_191952/3493489388.py:2: DtypeWarning: Columns (4,5,7,9,10,11,12,13,14) have mixed types.Specify dtype option on import or set low_memory=False.\n",
      "  data = load_data()\n"
     ]
    },
    {
     "name": "stdout",
     "output_type": "stream",
     "text": [
      "Downloading 50 more rows ([4250:4300])\n"
     ]
    },
    {
     "data": {
      "application/vnd.jupyter.widget-view+json": {
       "model_id": "0cbeb275d1d847c2bb9cb5d1aca80219",
       "version_major": 2,
       "version_minor": 0
      },
      "text/plain": [
       "  0%|          | 0/50 [00:00<?, ?it/s]"
      ]
     },
     "metadata": {},
     "output_type": "display_data"
    },
    {
     "name": "stdout",
     "output_type": "stream",
     "text": [
      "Socket Error\n"
     ]
    },
    {
     "data": {
      "application/vnd.jupyter.widget-view+json": {
       "model_id": "36566771a31c488487769cc51bc4ff84",
       "version_major": 2,
       "version_minor": 0
      },
      "text/plain": [
       "0it [00:00, ?it/s]"
      ]
     },
     "metadata": {},
     "output_type": "display_data"
    },
    {
     "name": "stdout",
     "output_type": "stream",
     "text": [
      "Socket Error\n"
     ]
    },
    {
     "data": {
      "application/vnd.jupyter.widget-view+json": {
       "model_id": "c1b6658007734aa5863f280028b302c7",
       "version_major": 2,
       "version_minor": 0
      },
      "text/plain": [
       "  0%|          | 0/2 [00:00<?, ?it/s]"
      ]
     },
     "metadata": {},
     "output_type": "display_data"
    },
    {
     "data": {
      "application/vnd.jupyter.widget-view+json": {
       "model_id": "42b489ec1863465888cce9cc55a7fbb7",
       "version_major": 2,
       "version_minor": 0
      },
      "text/plain": [
       "0it [00:00, ?it/s]"
      ]
     },
     "metadata": {},
     "output_type": "display_data"
    },
    {
     "data": {
      "application/vnd.jupyter.widget-view+json": {
       "model_id": "35916df47cc1430aa818920ea53a0e08",
       "version_major": 2,
       "version_minor": 0
      },
      "text/plain": [
       "  0%|          | 0/24 [00:00<?, ?it/s]"
      ]
     },
     "metadata": {},
     "output_type": "display_data"
    },
    {
     "name": "stdout",
     "output_type": "stream",
     "text": [
      "Socket Error\n"
     ]
    },
    {
     "data": {
      "application/vnd.jupyter.widget-view+json": {
       "model_id": "7fbfc81d3f064f6fac26babf848ca55c",
       "version_major": 2,
       "version_minor": 0
      },
      "text/plain": [
       "  0%|          | 0/6 [00:00<?, ?it/s]"
      ]
     },
     "metadata": {},
     "output_type": "display_data"
    },
    {
     "data": {
      "application/vnd.jupyter.widget-view+json": {
       "model_id": "3c04e06223e74a1599f915eefccf097a",
       "version_major": 2,
       "version_minor": 0
      },
      "text/plain": [
       "  0%|          | 0/320 [00:00<?, ?it/s]"
      ]
     },
     "metadata": {},
     "output_type": "display_data"
    },
    {
     "name": "stdout",
     "output_type": "stream",
     "text": [
      "Socket Error\n",
      "Socket Error\n",
      "Socket Error\n",
      "Socket Error\n",
      "Socket Error\n",
      "Socket Error\n",
      "Socket Error\n"
     ]
    },
    {
     "data": {
      "application/vnd.jupyter.widget-view+json": {
       "model_id": "7a15fa30ad1042d6b4c45f80416eb99e",
       "version_major": 2,
       "version_minor": 0
      },
      "text/plain": [
       "0it [00:00, ?it/s]"
      ]
     },
     "metadata": {},
     "output_type": "display_data"
    },
    {
     "data": {
      "application/vnd.jupyter.widget-view+json": {
       "model_id": "5f53d581f22643848cdc8b0e5f451aab",
       "version_major": 2,
       "version_minor": 0
      },
      "text/plain": [
       "0it [00:00, ?it/s]"
      ]
     },
     "metadata": {},
     "output_type": "display_data"
    },
    {
     "data": {
      "application/vnd.jupyter.widget-view+json": {
       "model_id": "6825a518de9e4850af8256f97d8492e5",
       "version_major": 2,
       "version_minor": 0
      },
      "text/plain": [
       "  0%|          | 0/85 [00:00<?, ?it/s]"
      ]
     },
     "metadata": {},
     "output_type": "display_data"
    },
    {
     "data": {
      "application/vnd.jupyter.widget-view+json": {
       "model_id": "5ff461869da443c8999a89e169e74d84",
       "version_major": 2,
       "version_minor": 0
      },
      "text/plain": [
       "  0%|          | 0/194 [00:00<?, ?it/s]"
      ]
     },
     "metadata": {},
     "output_type": "display_data"
    },
    {
     "name": "stdout",
     "output_type": "stream",
     "text": [
      "Socket Error\n",
      "Problem with JSON:  {'ip': '0.0.0.0', 'bogon': True}\n",
      "Problem with JSON:  {'ip': '0.0.0.0', 'bogon': True}\n",
      "Socket Error\n",
      "Problem with JSON:  {'ip': '0.0.0.0', 'bogon': True}\n"
     ]
    },
    {
     "data": {
      "application/vnd.jupyter.widget-view+json": {
       "model_id": "6f4eb53c2a9d4bfbbf1b9aa29bd0fed8",
       "version_major": 2,
       "version_minor": 0
      },
      "text/plain": [
       "0it [00:00, ?it/s]"
      ]
     },
     "metadata": {},
     "output_type": "display_data"
    },
    {
     "data": {
      "application/vnd.jupyter.widget-view+json": {
       "model_id": "d443e91b9983408297db8e56cc046f4c",
       "version_major": 2,
       "version_minor": 0
      },
      "text/plain": [
       "0it [00:00, ?it/s]"
      ]
     },
     "metadata": {},
     "output_type": "display_data"
    },
    {
     "name": "stdout",
     "output_type": "stream",
     "text": [
      "Socket Error\n",
      "Socket Error\n"
     ]
    },
    {
     "data": {
      "application/vnd.jupyter.widget-view+json": {
       "model_id": "74a29a84899c4fb0b2f1fff5de1a035f",
       "version_major": 2,
       "version_minor": 0
      },
      "text/plain": [
       "  0%|          | 0/36 [00:00<?, ?it/s]"
      ]
     },
     "metadata": {},
     "output_type": "display_data"
    },
    {
     "data": {
      "application/vnd.jupyter.widget-view+json": {
       "model_id": "958bdbe136744ddb8120e3b423c1ace9",
       "version_major": 2,
       "version_minor": 0
      },
      "text/plain": [
       "  0%|          | 0/205 [00:00<?, ?it/s]"
      ]
     },
     "metadata": {},
     "output_type": "display_data"
    },
    {
     "data": {
      "application/vnd.jupyter.widget-view+json": {
       "model_id": "2a791d65b5fc472d9526d8a175c35e62",
       "version_major": 2,
       "version_minor": 0
      },
      "text/plain": [
       "  0%|          | 0/64 [00:00<?, ?it/s]"
      ]
     },
     "metadata": {},
     "output_type": "display_data"
    },
    {
     "name": "stdout",
     "output_type": "stream",
     "text": [
      "Problem with JSON:  {'ip': '0.0.0.0', 'bogon': True}\n",
      "Problem with JSON:  {'ip': '0.0.0.0', 'bogon': True}\n"
     ]
    },
    {
     "data": {
      "application/vnd.jupyter.widget-view+json": {
       "model_id": "6c7ffb281bd647dcaf3a6b6a85f4f573",
       "version_major": 2,
       "version_minor": 0
      },
      "text/plain": [
       "0it [00:00, ?it/s]"
      ]
     },
     "metadata": {},
     "output_type": "display_data"
    },
    {
     "data": {
      "application/vnd.jupyter.widget-view+json": {
       "model_id": "fe009334a79b48f0844ee2dee58061dc",
       "version_major": 2,
       "version_minor": 0
      },
      "text/plain": [
       "  0%|          | 0/85 [00:00<?, ?it/s]"
      ]
     },
     "metadata": {},
     "output_type": "display_data"
    },
    {
     "data": {
      "application/vnd.jupyter.widget-view+json": {
       "model_id": "dac34079b430433380124349de180036",
       "version_major": 2,
       "version_minor": 0
      },
      "text/plain": [
       "  0%|          | 0/103 [00:00<?, ?it/s]"
      ]
     },
     "metadata": {},
     "output_type": "display_data"
    },
    {
     "data": {
      "application/vnd.jupyter.widget-view+json": {
       "model_id": "8dc0043757964dda995353e59ffe8373",
       "version_major": 2,
       "version_minor": 0
      },
      "text/plain": [
       "  0%|          | 0/57 [00:00<?, ?it/s]"
      ]
     },
     "metadata": {},
     "output_type": "display_data"
    },
    {
     "data": {
      "application/vnd.jupyter.widget-view+json": {
       "model_id": "d3c8dbb4439c4ab7b4e8f5622d6fbede",
       "version_major": 2,
       "version_minor": 0
      },
      "text/plain": [
       "0it [00:00, ?it/s]"
      ]
     },
     "metadata": {},
     "output_type": "display_data"
    },
    {
     "data": {
      "application/vnd.jupyter.widget-view+json": {
       "model_id": "2a91d2db785b4ed3a04e8a70196ad8de",
       "version_major": 2,
       "version_minor": 0
      },
      "text/plain": [
       "  0%|          | 0/75 [00:00<?, ?it/s]"
      ]
     },
     "metadata": {},
     "output_type": "display_data"
    },
    {
     "name": "stdout",
     "output_type": "stream",
     "text": [
      "Socket Error\n",
      "Socket Error\n",
      "Socket Error\n"
     ]
    },
    {
     "data": {
      "application/vnd.jupyter.widget-view+json": {
       "model_id": "b669bddf440d4aaeb07acaee8854bbd7",
       "version_major": 2,
       "version_minor": 0
      },
      "text/plain": [
       "  0%|          | 0/261 [00:00<?, ?it/s]"
      ]
     },
     "metadata": {},
     "output_type": "display_data"
    },
    {
     "data": {
      "application/vnd.jupyter.widget-view+json": {
       "model_id": "69d1897a3ea2479ab10a0a0d7d5fe60c",
       "version_major": 2,
       "version_minor": 0
      },
      "text/plain": [
       "0it [00:00, ?it/s]"
      ]
     },
     "metadata": {},
     "output_type": "display_data"
    },
    {
     "data": {
      "application/vnd.jupyter.widget-view+json": {
       "model_id": "b6020d1db7224389bbf8e0fd37479814",
       "version_major": 2,
       "version_minor": 0
      },
      "text/plain": [
       "  0%|          | 0/32 [00:00<?, ?it/s]"
      ]
     },
     "metadata": {},
     "output_type": "display_data"
    },
    {
     "name": "stdout",
     "output_type": "stream",
     "text": [
      "Problem with JSON:  {'ip': '0.0.0.0', 'bogon': True}\n",
      "Problem with JSON:  {'ip': '0.0.0.0', 'bogon': True}\n"
     ]
    },
    {
     "data": {
      "application/vnd.jupyter.widget-view+json": {
       "model_id": "c41ebb21444a43358ac1050da05739be",
       "version_major": 2,
       "version_minor": 0
      },
      "text/plain": [
       "  0%|          | 0/926 [00:00<?, ?it/s]"
      ]
     },
     "metadata": {},
     "output_type": "display_data"
    },
    {
     "data": {
      "application/vnd.jupyter.widget-view+json": {
       "model_id": "85062caac4f9471e960c0a905a2773c4",
       "version_major": 2,
       "version_minor": 0
      },
      "text/plain": [
       "  0%|          | 0/65 [00:00<?, ?it/s]"
      ]
     },
     "metadata": {},
     "output_type": "display_data"
    },
    {
     "name": "stdout",
     "output_type": "stream",
     "text": [
      "Problem with JSON:  {'ip': '0.0.0.0', 'bogon': True}\n",
      "Problem with JSON:  {'ip': '0.0.0.0', 'bogon': True}\n",
      "Problem with JSON:  {'ip': '0.0.0.0', 'bogon': True}\n",
      "Problem with JSON:  {'ip': '0.0.0.0', 'bogon': True}\n"
     ]
    },
    {
     "data": {
      "application/vnd.jupyter.widget-view+json": {
       "model_id": "699cf38edcaf41edacc433cfe6e06365",
       "version_major": 2,
       "version_minor": 0
      },
      "text/plain": [
       "  0%|          | 0/409 [00:00<?, ?it/s]"
      ]
     },
     "metadata": {},
     "output_type": "display_data"
    },
    {
     "name": "stdout",
     "output_type": "stream",
     "text": [
      "Unicode Error\n",
      "Socket Error\n"
     ]
    },
    {
     "data": {
      "application/vnd.jupyter.widget-view+json": {
       "model_id": "3e0558324bd642d0b48928cf0c37f983",
       "version_major": 2,
       "version_minor": 0
      },
      "text/plain": [
       "0it [00:00, ?it/s]"
      ]
     },
     "metadata": {},
     "output_type": "display_data"
    },
    {
     "name": "stdout",
     "output_type": "stream",
     "text": [
      "Socket Error\n"
     ]
    },
    {
     "data": {
      "application/vnd.jupyter.widget-view+json": {
       "model_id": "3320e34af9df4b4db707d899443b0545",
       "version_major": 2,
       "version_minor": 0
      },
      "text/plain": [
       "  0%|          | 0/56 [00:00<?, ?it/s]"
      ]
     },
     "metadata": {},
     "output_type": "display_data"
    },
    {
     "data": {
      "application/vnd.jupyter.widget-view+json": {
       "model_id": "e43b1a17114240a3ae81087ea438b834",
       "version_major": 2,
       "version_minor": 0
      },
      "text/plain": [
       "  0%|          | 0/122 [00:00<?, ?it/s]"
      ]
     },
     "metadata": {},
     "output_type": "display_data"
    },
    {
     "name": "stdout",
     "output_type": "stream",
     "text": [
      "Problem with JSON:  {'ip': '0.0.0.0', 'bogon': True}\n"
     ]
    },
    {
     "data": {
      "application/vnd.jupyter.widget-view+json": {
       "model_id": "0a02de030f8f4091837aa933e0fd09fb",
       "version_major": 2,
       "version_minor": 0
      },
      "text/plain": [
       "  0%|          | 0/3 [00:00<?, ?it/s]"
      ]
     },
     "metadata": {},
     "output_type": "display_data"
    },
    {
     "name": "stdout",
     "output_type": "stream",
     "text": [
      "Socket Error\n"
     ]
    },
    {
     "data": {
      "application/vnd.jupyter.widget-view+json": {
       "model_id": "faf2ffd558b143b68f2a877b03a8b645",
       "version_major": 2,
       "version_minor": 0
      },
      "text/plain": [
       "  0%|          | 0/180 [00:00<?, ?it/s]"
      ]
     },
     "metadata": {},
     "output_type": "display_data"
    },
    {
     "name": "stdout",
     "output_type": "stream",
     "text": [
      "Socket Error\n",
      "Socket Error\n",
      "Socket Error\n"
     ]
    },
    {
     "data": {
      "application/vnd.jupyter.widget-view+json": {
       "model_id": "ed65c125395349d1a46e5f3950b664c3",
       "version_major": 2,
       "version_minor": 0
      },
      "text/plain": [
       "  0%|          | 0/44 [00:00<?, ?it/s]"
      ]
     },
     "metadata": {},
     "output_type": "display_data"
    },
    {
     "name": "stdout",
     "output_type": "stream",
     "text": [
      "Problem with JSON:  {'ip': '0.0.0.0', 'bogon': True}\n",
      "Problem with JSON:  {'ip': '0.0.0.0', 'bogon': True}\n",
      "Problem with JSON:  {'ip': '0.0.0.0', 'bogon': True}\n",
      "Problem with JSON:  {'ip': '0.0.0.0', 'bogon': True}\n"
     ]
    },
    {
     "data": {
      "application/vnd.jupyter.widget-view+json": {
       "model_id": "38fe87bec94d4356969af375bd6ee5b4",
       "version_major": 2,
       "version_minor": 0
      },
      "text/plain": [
       "  0%|          | 0/14 [00:00<?, ?it/s]"
      ]
     },
     "metadata": {},
     "output_type": "display_data"
    },
    {
     "data": {
      "application/vnd.jupyter.widget-view+json": {
       "model_id": "3c5440dea8e5413b93c4dfbac04e6d2c",
       "version_major": 2,
       "version_minor": 0
      },
      "text/plain": [
       "0it [00:00, ?it/s]"
      ]
     },
     "metadata": {},
     "output_type": "display_data"
    },
    {
     "data": {
      "application/vnd.jupyter.widget-view+json": {
       "model_id": "d7ddc5d3a37740ff90f2cd61682f5625",
       "version_major": 2,
       "version_minor": 0
      },
      "text/plain": [
       "  0%|          | 0/94 [00:00<?, ?it/s]"
      ]
     },
     "metadata": {},
     "output_type": "display_data"
    },
    {
     "name": "stdout",
     "output_type": "stream",
     "text": [
      "Problem with JSON:  {'ip': '0.0.0.0', 'bogon': True}\n"
     ]
    },
    {
     "data": {
      "application/vnd.jupyter.widget-view+json": {
       "model_id": "5533e05e2a7a43eaabd6558d8e54b5da",
       "version_major": 2,
       "version_minor": 0
      },
      "text/plain": [
       "  0%|          | 0/333 [00:00<?, ?it/s]"
      ]
     },
     "metadata": {},
     "output_type": "display_data"
    },
    {
     "data": {
      "application/vnd.jupyter.widget-view+json": {
       "model_id": "a518c3e3470d48d5834133440dc4b2d0",
       "version_major": 2,
       "version_minor": 0
      },
      "text/plain": [
       "  0%|          | 0/37 [00:00<?, ?it/s]"
      ]
     },
     "metadata": {},
     "output_type": "display_data"
    },
    {
     "data": {
      "application/vnd.jupyter.widget-view+json": {
       "model_id": "efe89a6f37934f16b523a4faeebf3b11",
       "version_major": 2,
       "version_minor": 0
      },
      "text/plain": [
       "  0%|          | 0/33 [00:00<?, ?it/s]"
      ]
     },
     "metadata": {},
     "output_type": "display_data"
    },
    {
     "name": "stdout",
     "output_type": "stream",
     "text": [
      "Problem with JSON:  {'ip': '0.0.0.0', 'bogon': True}\n"
     ]
    },
    {
     "data": {
      "application/vnd.jupyter.widget-view+json": {
       "model_id": "bf80e75a62e04b47870e95c3c9e5fb8c",
       "version_major": 2,
       "version_minor": 0
      },
      "text/plain": [
       "  0%|          | 0/43 [00:00<?, ?it/s]"
      ]
     },
     "metadata": {},
     "output_type": "display_data"
    },
    {
     "data": {
      "application/vnd.jupyter.widget-view+json": {
       "model_id": "ebe6c0447f544d09b687476c11c2e3fd",
       "version_major": 2,
       "version_minor": 0
      },
      "text/plain": [
       "  0%|          | 0/65 [00:00<?, ?it/s]"
      ]
     },
     "metadata": {},
     "output_type": "display_data"
    },
    {
     "data": {
      "text/html": [
       "<div>\n",
       "<style scoped>\n",
       "    .dataframe tbody tr th:only-of-type {\n",
       "        vertical-align: middle;\n",
       "    }\n",
       "\n",
       "    .dataframe tbody tr th {\n",
       "        vertical-align: top;\n",
       "    }\n",
       "\n",
       "    .dataframe thead th {\n",
       "        text-align: right;\n",
       "    }\n",
       "</style>\n",
       "<table border=\"1\" class=\"dataframe\">\n",
       "  <thead>\n",
       "    <tr style=\"text-align: right;\">\n",
       "      <th></th>\n",
       "      <th>url</th>\n",
       "      <th>type</th>\n",
       "      <th>hostname</th>\n",
       "      <th>ip_addr</th>\n",
       "      <th>content</th>\n",
       "      <th>redirects</th>\n",
       "      <th>city</th>\n",
       "      <th>region</th>\n",
       "      <th>country</th>\n",
       "      <th>org</th>\n",
       "      <th>words</th>\n",
       "      <th>aux</th>\n",
       "      <th>latitude</th>\n",
       "      <th>longitude</th>\n",
       "    </tr>\n",
       "  </thead>\n",
       "  <tbody>\n",
       "    <tr>\n",
       "      <th>0</th>\n",
       "      <td>http://larcadelcarnevale.com/catalogo/palloncini</td>\n",
       "      <td>defacement</td>\n",
       "      <td>larcadelcarnevale.com</td>\n",
       "      <td>185.53.177.31</td>\n",
       "      <td>&lt;!DOCTYPE html&gt;\\n&lt;html data-adblockkey=\"MFwwDQ...</td>\n",
       "      <td>0.0</td>\n",
       "      <td>Munich</td>\n",
       "      <td>Bavaria</td>\n",
       "      <td>DE</td>\n",
       "      <td>AS19905 Neustar Security Services</td>\n",
       "      <td>larcadelcarnevale com Buy this domain larcade...</td>\n",
       "      <td>hostname_secure_voodoo_com ip_addr_192_64_146_...</td>\n",
       "      <td>48.1374</td>\n",
       "      <td>11.5755</td>\n",
       "    </tr>\n",
       "    <tr>\n",
       "      <th>1</th>\n",
       "      <td>https://docs.google.com/spreadsheet/viewform?f...</td>\n",
       "      <td>phishing</td>\n",
       "      <td>docs.google.com</td>\n",
       "      <td>172.253.115.102</td>\n",
       "      <td>&lt;!DOCTYPE html&gt;&lt;html lang=\"en\" class=\"HB1eCd-U...</td>\n",
       "      <td>2.0</td>\n",
       "      <td>Washington</td>\n",
       "      <td>Washington, D.C.</td>\n",
       "      <td>US</td>\n",
       "      <td>AS15169 Google LLC</td>\n",
       "      <td>Sorteo Notebook Diciembre 2012JavaScript isn t...</td>\n",
       "      <td>hostname_accounts_google_com ip_addr_142_251_1...</td>\n",
       "      <td>38.8951</td>\n",
       "      <td>-77.0364</td>\n",
       "    </tr>\n",
       "    <tr>\n",
       "      <th>2</th>\n",
       "      <td>http://interpark.com/displaycorner/FreeMarket....</td>\n",
       "      <td>benign</td>\n",
       "      <td>interpark.com</td>\n",
       "      <td>211.233.74.23</td>\n",
       "      <td>\\r\\n\\r\\n&lt;!DOCTYPE HTML PUBLIC \"-//W3C//DTD HTM...</td>\n",
       "      <td>0.0</td>\n",
       "      <td>Seoul</td>\n",
       "      <td>Seoul</td>\n",
       "      <td>KR</td>\n",
       "      <td>AS3786 LG DACOM Corporation</td>\n",
       "      <td>Shopper s Heaven 인터파크 홈 리빙 세탁 청소용품 리빙 최신 등록순 ...</td>\n",
       "      <td>hostname_interpark_com ip_addr_211_233_74_23 l...</td>\n",
       "      <td>37.566</td>\n",
       "      <td>126.9784</td>\n",
       "    </tr>\n",
       "    <tr>\n",
       "      <th>3</th>\n",
       "      <td>http://www.pn-wuppertal.de/links/2-linkseite/5...</td>\n",
       "      <td>defacement</td>\n",
       "      <td>www.pn-wuppertal.de</td>\n",
       "      <td>217.160.0.93</td>\n",
       "      <td>\\n&lt;!DOCTYPE html PUBLIC \"-//W3C//DTD XHTML 1.0...</td>\n",
       "      <td>1.0</td>\n",
       "      <td>Karlsruhe</td>\n",
       "      <td>Baden-Wurttemberg</td>\n",
       "      <td>DE</td>\n",
       "      <td>AS8560 IONOS SE</td>\n",
       "      <td>Links KontaktAnfahrtDatenschutzImpressum Home...</td>\n",
       "      <td>hostname_www_pn_wuppertal_de ip_addr_217_160_0...</td>\n",
       "      <td>49.0094</td>\n",
       "      <td>8.4044</td>\n",
       "    </tr>\n",
       "    <tr>\n",
       "      <th>4</th>\n",
       "      <td>http://www.parafiapiaski.pl/index.php?option=c...</td>\n",
       "      <td>defacement</td>\n",
       "      <td>www.parafiapiaski.pl</td>\n",
       "      <td>185.253.212.22</td>\n",
       "      <td>&lt;!doctype html&gt;\\n&lt;html&gt;\\n\\n&lt;head&gt;\\n\\n&lt;meta htt...</td>\n",
       "      <td>0.0</td>\n",
       "      <td>Warsaw</td>\n",
       "      <td>Mazovia</td>\n",
       "      <td>PL</td>\n",
       "      <td>AS48707 AS48707 OPS PL sp. z o.o.</td>\n",
       "      <td>AfterMarket pl domena parafiapiaski pl Domena...</td>\n",
       "      <td>hostname_www_aftermarket_pl ip_addr_185_253_21...</td>\n",
       "      <td>52.2298</td>\n",
       "      <td>21.0118</td>\n",
       "    </tr>\n",
       "    <tr>\n",
       "      <th>...</th>\n",
       "      <td>...</td>\n",
       "      <td>...</td>\n",
       "      <td>...</td>\n",
       "      <td>...</td>\n",
       "      <td>...</td>\n",
       "      <td>...</td>\n",
       "      <td>...</td>\n",
       "      <td>...</td>\n",
       "      <td>...</td>\n",
       "      <td>...</td>\n",
       "      <td>...</td>\n",
       "      <td>...</td>\n",
       "      <td>...</td>\n",
       "      <td>...</td>\n",
       "    </tr>\n",
       "    <tr>\n",
       "      <th>327</th>\n",
       "      <td>http://grantland.com/hollywood-prospectus/2015...</td>\n",
       "      <td>benign</td>\n",
       "      <td>grantland.com</td>\n",
       "      <td>192.0.66.2</td>\n",
       "      <td>&lt;!DOCTYPE HTML&gt;\\n&lt;!--[if IEMobile 7 ]&gt;&lt;html cl...</td>\n",
       "      <td>0.0</td>\n",
       "      <td>San Francisco</td>\n",
       "      <td>California</td>\n",
       "      <td>US</td>\n",
       "      <td>AS2635 Automattic, Inc</td>\n",
       "      <td>Final 2015 Oscar Nomination Predictions Best ...</td>\n",
       "      <td>hostname_grantland_com ip_addr_192_0_66_2 loc_...</td>\n",
       "      <td>37.7509</td>\n",
       "      <td>-122.4153</td>\n",
       "    </tr>\n",
       "    <tr>\n",
       "      <th>328</th>\n",
       "      <td>http://9779.info/%E5%B9%BC%E5%84%BF%E7%B2%98%E...</td>\n",
       "      <td>malware</td>\n",
       "      <td>9779.info</td>\n",
       "      <td>160.153.63.37</td>\n",
       "      <td>&lt;!DOCTYPE html PUBLIC \"-//W3C//DTD XHTML 1.0 T...</td>\n",
       "      <td>0.0</td>\n",
       "      <td>Phoenix</td>\n",
       "      <td>Arizona</td>\n",
       "      <td>US</td>\n",
       "      <td>AS398101 GoDaddy.com, LLC</td>\n",
       "      <td>幼儿粘贴画树叶图片图片展示 贴画网 树叶粘贴画 豆子粘贴画 剪贴画 拼贴画 布贴画 儿童贴...</td>\n",
       "      <td>hostname_www_9779_info ip_addr_160_153_63_37 l...</td>\n",
       "      <td>33.4484</td>\n",
       "      <td>-112.074</td>\n",
       "    </tr>\n",
       "    <tr>\n",
       "      <th>329</th>\n",
       "      <td>http://gessobh.com/projetos.html</td>\n",
       "      <td>defacement</td>\n",
       "      <td>gessobh.com</td>\n",
       "      <td>18.119.154.66</td>\n",
       "      <td>&lt;!DOCTYPE html&gt;\\n&lt;html lang=\"en\"&gt;\\n&lt;head&gt;\\n\\n&lt;...</td>\n",
       "      <td>0.0</td>\n",
       "      <td>Hilliard</td>\n",
       "      <td>Ohio</td>\n",
       "      <td>US</td>\n",
       "      <td>AS16509 Amazon.com, Inc.</td>\n",
       "      <td>GessoBh com is for sale HugeDomains Skip to m...</td>\n",
       "      <td>hostname_gessobh_com ip_addr_18_119_154_66 loc...</td>\n",
       "      <td>40.0334</td>\n",
       "      <td>-83.1582</td>\n",
       "    </tr>\n",
       "    <tr>\n",
       "      <th>330</th>\n",
       "      <td>http://kakaku.com/kaden/antenna-others/ranking...</td>\n",
       "      <td>benign</td>\n",
       "      <td>kakaku.com</td>\n",
       "      <td>103.70.243.165</td>\n",
       "      <td>\\r\\n&lt;!DOCTYPE HTML PUBLIC \"-//W3C//DTD HTML 4....</td>\n",
       "      <td>2.0</td>\n",
       "      <td>Tokyo</td>\n",
       "      <td>Tokyo</td>\n",
       "      <td>JP</td>\n",
       "      <td>AS59123 Kakaku.com, Inc.</td>\n",
       "      <td>価格 com BS CSアンテナ 格安 激安 大幅値下げランキング BS CSアンテナ 格...</td>\n",
       "      <td>hostname_kakaku_com ip_addr_103_70_243_165 loc...</td>\n",
       "      <td>35.691</td>\n",
       "      <td>139.7679</td>\n",
       "    </tr>\n",
       "    <tr>\n",
       "      <th>331</th>\n",
       "      <td>http://9779.info/%E7%A2%8E%E5%B8%83%E5%A4%B4%E...</td>\n",
       "      <td>malware</td>\n",
       "      <td>9779.info</td>\n",
       "      <td>160.153.63.37</td>\n",
       "      <td>&lt;!DOCTYPE html PUBLIC \"-//W3C//DTD XHTML 1.0 T...</td>\n",
       "      <td>0.0</td>\n",
       "      <td>Phoenix</td>\n",
       "      <td>Arizona</td>\n",
       "      <td>US</td>\n",
       "      <td>AS398101 GoDaddy.com, LLC</td>\n",
       "      <td>碎布头制作贴画教程图片展示 贴画网 树叶粘贴画 豆子粘贴画 剪贴画 拼贴画 布贴画 儿童贴...</td>\n",
       "      <td>hostname_www_9779_info ip_addr_160_153_63_37 l...</td>\n",
       "      <td>33.4484</td>\n",
       "      <td>-112.074</td>\n",
       "    </tr>\n",
       "  </tbody>\n",
       "</table>\n",
       "<p>332 rows × 14 columns</p>\n",
       "</div>"
      ],
      "text/plain": [
       "                                                   url        type  \\\n",
       "0     http://larcadelcarnevale.com/catalogo/palloncini  defacement   \n",
       "1    https://docs.google.com/spreadsheet/viewform?f...    phishing   \n",
       "2    http://interpark.com/displaycorner/FreeMarket....      benign   \n",
       "3    http://www.pn-wuppertal.de/links/2-linkseite/5...  defacement   \n",
       "4    http://www.parafiapiaski.pl/index.php?option=c...  defacement   \n",
       "..                                                 ...         ...   \n",
       "327  http://grantland.com/hollywood-prospectus/2015...      benign   \n",
       "328  http://9779.info/%E5%B9%BC%E5%84%BF%E7%B2%98%E...     malware   \n",
       "329                   http://gessobh.com/projetos.html  defacement   \n",
       "330  http://kakaku.com/kaden/antenna-others/ranking...      benign   \n",
       "331  http://9779.info/%E7%A2%8E%E5%B8%83%E5%A4%B4%E...     malware   \n",
       "\n",
       "                  hostname          ip_addr  \\\n",
       "0    larcadelcarnevale.com    185.53.177.31   \n",
       "1          docs.google.com  172.253.115.102   \n",
       "2            interpark.com    211.233.74.23   \n",
       "3      www.pn-wuppertal.de     217.160.0.93   \n",
       "4     www.parafiapiaski.pl   185.253.212.22   \n",
       "..                     ...              ...   \n",
       "327          grantland.com       192.0.66.2   \n",
       "328              9779.info    160.153.63.37   \n",
       "329            gessobh.com    18.119.154.66   \n",
       "330             kakaku.com   103.70.243.165   \n",
       "331              9779.info    160.153.63.37   \n",
       "\n",
       "                                               content redirects  \\\n",
       "0    <!DOCTYPE html>\\n<html data-adblockkey=\"MFwwDQ...       0.0   \n",
       "1    <!DOCTYPE html><html lang=\"en\" class=\"HB1eCd-U...       2.0   \n",
       "2    \\r\\n\\r\\n<!DOCTYPE HTML PUBLIC \"-//W3C//DTD HTM...       0.0   \n",
       "3    \\n<!DOCTYPE html PUBLIC \"-//W3C//DTD XHTML 1.0...       1.0   \n",
       "4    <!doctype html>\\n<html>\\n\\n<head>\\n\\n<meta htt...       0.0   \n",
       "..                                                 ...       ...   \n",
       "327  <!DOCTYPE HTML>\\n<!--[if IEMobile 7 ]><html cl...       0.0   \n",
       "328  <!DOCTYPE html PUBLIC \"-//W3C//DTD XHTML 1.0 T...       0.0   \n",
       "329  <!DOCTYPE html>\\n<html lang=\"en\">\\n<head>\\n\\n<...       0.0   \n",
       "330  \\r\\n<!DOCTYPE HTML PUBLIC \"-//W3C//DTD HTML 4....       2.0   \n",
       "331  <!DOCTYPE html PUBLIC \"-//W3C//DTD XHTML 1.0 T...       0.0   \n",
       "\n",
       "              city             region country  \\\n",
       "0           Munich            Bavaria      DE   \n",
       "1       Washington   Washington, D.C.      US   \n",
       "2            Seoul              Seoul      KR   \n",
       "3        Karlsruhe  Baden-Wurttemberg      DE   \n",
       "4           Warsaw            Mazovia      PL   \n",
       "..             ...                ...     ...   \n",
       "327  San Francisco         California      US   \n",
       "328        Phoenix            Arizona      US   \n",
       "329       Hilliard               Ohio      US   \n",
       "330          Tokyo              Tokyo      JP   \n",
       "331        Phoenix            Arizona      US   \n",
       "\n",
       "                                   org  \\\n",
       "0    AS19905 Neustar Security Services   \n",
       "1                   AS15169 Google LLC   \n",
       "2          AS3786 LG DACOM Corporation   \n",
       "3                      AS8560 IONOS SE   \n",
       "4    AS48707 AS48707 OPS PL sp. z o.o.   \n",
       "..                                 ...   \n",
       "327             AS2635 Automattic, Inc   \n",
       "328          AS398101 GoDaddy.com, LLC   \n",
       "329           AS16509 Amazon.com, Inc.   \n",
       "330           AS59123 Kakaku.com, Inc.   \n",
       "331          AS398101 GoDaddy.com, LLC   \n",
       "\n",
       "                                                 words  \\\n",
       "0     larcadelcarnevale com Buy this domain larcade...   \n",
       "1    Sorteo Notebook Diciembre 2012JavaScript isn t...   \n",
       "2     Shopper s Heaven 인터파크 홈 리빙 세탁 청소용품 리빙 최신 등록순 ...   \n",
       "3     Links KontaktAnfahrtDatenschutzImpressum Home...   \n",
       "4     AfterMarket pl domena parafiapiaski pl Domena...   \n",
       "..                                                 ...   \n",
       "327   Final 2015 Oscar Nomination Predictions Best ...   \n",
       "328   幼儿粘贴画树叶图片图片展示 贴画网 树叶粘贴画 豆子粘贴画 剪贴画 拼贴画 布贴画 儿童贴...   \n",
       "329   GessoBh com is for sale HugeDomains Skip to m...   \n",
       "330   価格 com BS CSアンテナ 格安 激安 大幅値下げランキング BS CSアンテナ 格...   \n",
       "331   碎布头制作贴画教程图片展示 贴画网 树叶粘贴画 豆子粘贴画 剪贴画 拼贴画 布贴画 儿童贴...   \n",
       "\n",
       "                                                   aux latitude longitude  \n",
       "0    hostname_secure_voodoo_com ip_addr_192_64_146_...  48.1374   11.5755  \n",
       "1    hostname_accounts_google_com ip_addr_142_251_1...  38.8951  -77.0364  \n",
       "2    hostname_interpark_com ip_addr_211_233_74_23 l...   37.566  126.9784  \n",
       "3    hostname_www_pn_wuppertal_de ip_addr_217_160_0...  49.0094    8.4044  \n",
       "4    hostname_www_aftermarket_pl ip_addr_185_253_21...  52.2298   21.0118  \n",
       "..                                                 ...      ...       ...  \n",
       "327  hostname_grantland_com ip_addr_192_0_66_2 loc_...  37.7509 -122.4153  \n",
       "328  hostname_www_9779_info ip_addr_160_153_63_37 l...  33.4484  -112.074  \n",
       "329  hostname_gessobh_com ip_addr_18_119_154_66 loc...  40.0334  -83.1582  \n",
       "330  hostname_kakaku_com ip_addr_103_70_243_165 loc...   35.691  139.7679  \n",
       "331  hostname_www_9779_info ip_addr_160_153_63_37 l...  33.4484  -112.074  \n",
       "\n",
       "[332 rows x 14 columns]"
      ]
     },
     "execution_count": 13,
     "metadata": {},
     "output_type": "execute_result"
    }
   ],
   "source": [
    "for i in range(1):\n",
    "    data = load_data()\n",
    "data"
   ]
  },
  {
   "cell_type": "code",
   "execution_count": 14,
   "id": "cbdf7369-46ab-4c3c-bf0b-f4a6c90e5dce",
   "metadata": {
    "tags": []
   },
   "outputs": [
    {
     "name": "stderr",
     "output_type": "stream",
     "text": [
      "2023-03-27 00:44:51.835546: W tensorflow/stream_executor/platform/default/dso_loader.cc:64] Could not load dynamic library 'libcuda.so.1'; dlerror: libcuda.so.1: cannot open shared object file: No such file or directory\n",
      "2023-03-27 00:44:51.835586: W tensorflow/stream_executor/cuda/cuda_driver.cc:269] failed call to cuInit: UNKNOWN ERROR (303)\n",
      "2023-03-27 00:44:51.835620: I tensorflow/stream_executor/cuda/cuda_diagnostics.cc:156] kernel driver does not appear to be running on this host (benjamin-XPS-13-9370): /proc/driver/nvidia/version does not exist\n",
      "2023-03-27 00:44:51.835903: I tensorflow/core/platform/cpu_feature_guard.cc:142] This TensorFlow binary is optimized with oneAPI Deep Neural Network Library (oneDNN) to use the following CPU instructions in performance-critical operations:  AVX2 FMA\n",
      "To enable them in other operations, rebuild TensorFlow with the appropriate compiler flags.\n",
      "2023-03-27 00:44:51.903539: I tensorflow/compiler/mlir/mlir_graph_optimization_pass.cc:185] None of the MLIR Optimization Passes are enabled (registered 2)\n"
     ]
    }
   ],
   "source": [
    "feature_names = [\"words\", \"aux\", \"city\", \"region\", \"country\", \"redirects\", \"latitude\", \"longitude\"]\n",
    "\n",
    "data[\"latitude\"] = data[\"latitude\"].astype(np.str)\n",
    "data[\"longitude\"] = data[\"longitude\"].astype(np.str)\n",
    "\n",
    "sl = tf.keras.layers.StringLookup(output_mode='one_hot')\n",
    "sl.adapt(data[\"type\"])\n",
    "\n",
    "y = sl(list(data[\"type\"]))\n",
    "\n",
    "X_train, X_test, y_train, y_test = train_test_split(data[feature_names], y, test_size=0.33)"
   ]
  },
  {
   "cell_type": "code",
   "execution_count": 25,
   "id": "e0de43a0-0400-4385-8581-b05e11452db0",
   "metadata": {
    "tags": []
   },
   "outputs": [
    {
     "name": "stdout",
     "output_type": "stream",
     "text": [
      "Model: \"model_1\"\n",
      "__________________________________________________________________________________________________\n",
      "Layer (type)                    Output Shape         Param #     Connected to                     \n",
      "==================================================================================================\n",
      "input_2 (InputLayer)            [(None, 8)]          0                                            \n",
      "__________________________________________________________________________________________________\n",
      "tf.__operators__.getitem_8 (Sli (None,)              0           input_2[0][0]                    \n",
      "__________________________________________________________________________________________________\n",
      "tf.__operators__.getitem_9 (Sli (None,)              0           input_2[0][0]                    \n",
      "__________________________________________________________________________________________________\n",
      "tf.__operators__.getitem_10 (Sl (None,)              0           input_2[0][0]                    \n",
      "__________________________________________________________________________________________________\n",
      "tf.__operators__.getitem_11 (Sl (None,)              0           input_2[0][0]                    \n",
      "__________________________________________________________________________________________________\n",
      "tf.__operators__.getitem_12 (Sl (None,)              0           input_2[0][0]                    \n",
      "__________________________________________________________________________________________________\n",
      "tf.__operators__.getitem_13 (Sl (None,)              0           input_2[0][0]                    \n",
      "__________________________________________________________________________________________________\n",
      "flatten_15 (Flatten)            (None, 1)            0           tf.__operators__.getitem_8[0][0] \n",
      "__________________________________________________________________________________________________\n",
      "flatten_17 (Flatten)            (None, 1)            0           tf.__operators__.getitem_9[0][0] \n",
      "__________________________________________________________________________________________________\n",
      "flatten_19 (Flatten)            (None, 1)            0           tf.__operators__.getitem_10[0][0]\n",
      "__________________________________________________________________________________________________\n",
      "flatten_21 (Flatten)            (None, 1)            0           tf.__operators__.getitem_11[0][0]\n",
      "__________________________________________________________________________________________________\n",
      "flatten_23 (Flatten)            (None, 1)            0           tf.__operators__.getitem_12[0][0]\n",
      "__________________________________________________________________________________________________\n",
      "flatten_25 (Flatten)            (None, 1)            0           tf.__operators__.getitem_13[0][0]\n",
      "__________________________________________________________________________________________________\n",
      "text_vectorization_2 (TextVecto (None, 250)          0           flatten_15[0][0]                 \n",
      "__________________________________________________________________________________________________\n",
      "text_vectorization_3 (TextVecto (None, 250)          0           flatten_17[0][0]                 \n",
      "__________________________________________________________________________________________________\n",
      "string_lookup_9 (StringLookup)  (None, 250)          0           flatten_19[0][0]                 \n",
      "__________________________________________________________________________________________________\n",
      "string_lookup_10 (StringLookup) (None, 250)          0           flatten_21[0][0]                 \n",
      "__________________________________________________________________________________________________\n",
      "string_lookup_11 (StringLookup) (None, 250)          0           flatten_23[0][0]                 \n",
      "__________________________________________________________________________________________________\n",
      "string_lookup_12 (StringLookup) (None, 250)          0           flatten_25[0][0]                 \n",
      "__________________________________________________________________________________________________\n",
      "tf.__operators__.getitem_14 (Sl (None,)              0           input_2[0][0]                    \n",
      "__________________________________________________________________________________________________\n",
      "tf.__operators__.getitem_15 (Sl (None,)              0           input_2[0][0]                    \n",
      "__________________________________________________________________________________________________\n",
      "embedding_6 (Embedding)         (None, 250, 5)       50000       text_vectorization_2[0][0]       \n",
      "__________________________________________________________________________________________________\n",
      "embedding_7 (Embedding)         (None, 250, 5)       50000       text_vectorization_3[0][0]       \n",
      "__________________________________________________________________________________________________\n",
      "embedding_8 (Embedding)         (None, 250, 5)       50000       string_lookup_9[0][0]            \n",
      "__________________________________________________________________________________________________\n",
      "embedding_9 (Embedding)         (None, 250, 5)       50000       string_lookup_10[0][0]           \n",
      "__________________________________________________________________________________________________\n",
      "embedding_10 (Embedding)        (None, 250, 5)       50000       string_lookup_11[0][0]           \n",
      "__________________________________________________________________________________________________\n",
      "embedding_11 (Embedding)        (None, 250, 5)       50000       string_lookup_12[0][0]           \n",
      "__________________________________________________________________________________________________\n",
      "tf.strings.to_number_2 (TFOpLam (None,)              0           tf.__operators__.getitem_14[0][0]\n",
      "__________________________________________________________________________________________________\n",
      "tf.strings.to_number_3 (TFOpLam (None,)              0           tf.__operators__.getitem_15[0][0]\n",
      "__________________________________________________________________________________________________\n",
      "flatten_16 (Flatten)            (None, 1250)         0           embedding_6[0][0]                \n",
      "__________________________________________________________________________________________________\n",
      "flatten_18 (Flatten)            (None, 1250)         0           embedding_7[0][0]                \n",
      "__________________________________________________________________________________________________\n",
      "flatten_20 (Flatten)            (None, 1250)         0           embedding_8[0][0]                \n",
      "__________________________________________________________________________________________________\n",
      "flatten_22 (Flatten)            (None, 1250)         0           embedding_9[0][0]                \n",
      "__________________________________________________________________________________________________\n",
      "flatten_24 (Flatten)            (None, 1250)         0           embedding_10[0][0]               \n",
      "__________________________________________________________________________________________________\n",
      "flatten_26 (Flatten)            (None, 1250)         0           embedding_11[0][0]               \n",
      "__________________________________________________________________________________________________\n",
      "flatten_27 (Flatten)            (None, 1)            0           tf.strings.to_number_2[0][0]     \n",
      "__________________________________________________________________________________________________\n",
      "flatten_28 (Flatten)            (None, 1)            0           tf.strings.to_number_3[0][0]     \n",
      "__________________________________________________________________________________________________\n",
      "tf.concat_1 (TFOpLambda)        (None, 7502)         0           flatten_16[0][0]                 \n",
      "                                                                 flatten_18[0][0]                 \n",
      "                                                                 flatten_20[0][0]                 \n",
      "                                                                 flatten_22[0][0]                 \n",
      "                                                                 flatten_24[0][0]                 \n",
      "                                                                 flatten_26[0][0]                 \n",
      "                                                                 flatten_27[0][0]                 \n",
      "                                                                 flatten_28[0][0]                 \n",
      "__________________________________________________________________________________________________\n",
      "sequential_1 (Sequential)       (None, 5)            112625      tf.concat_1[0][0]                \n",
      "==================================================================================================\n",
      "Total params: 412,625\n",
      "Trainable params: 412,625\n",
      "Non-trainable params: 0\n",
      "__________________________________________________________________________________________________\n",
      "Model: \"sequential_1\"\n",
      "_________________________________________________________________\n",
      "Layer (type)                 Output Shape              Param #   \n",
      "=================================================================\n",
      "flatten_29 (Flatten)         (None, 7502)              0         \n",
      "_________________________________________________________________\n",
      "dense_2 (Dense)              (None, 15)                112545    \n",
      "_________________________________________________________________\n",
      "dense_3 (Dense)              (None, 5)                 80        \n",
      "=================================================================\n",
      "Total params: 112,625\n",
      "Trainable params: 112,625\n",
      "Non-trainable params: 0\n",
      "_________________________________________________________________\n",
      "Epoch 1/10\n",
      "148/148 [==============================] - 3s 9ms/step - loss: 0.3542 - accuracy: 0.6419 - val_loss: 0.2723 - val_accuracy: 0.7297\n",
      "Epoch 2/10\n",
      "148/148 [==============================] - 1s 6ms/step - loss: 0.1994 - accuracy: 0.8514 - val_loss: 0.2091 - val_accuracy: 0.8243\n",
      "Epoch 3/10\n",
      "148/148 [==============================] - 1s 6ms/step - loss: 0.1420 - accuracy: 0.8919 - val_loss: 0.2002 - val_accuracy: 0.7973\n",
      "Epoch 4/10\n",
      "148/148 [==============================] - 1s 6ms/step - loss: 0.0987 - accuracy: 0.9122 - val_loss: 0.1631 - val_accuracy: 0.8243\n",
      "Epoch 5/10\n",
      "148/148 [==============================] - 1s 6ms/step - loss: 0.0704 - accuracy: 0.9595 - val_loss: 0.1631 - val_accuracy: 0.8243\n",
      "Epoch 6/10\n",
      "148/148 [==============================] - 1s 5ms/step - loss: 0.0557 - accuracy: 0.9527 - val_loss: 0.1331 - val_accuracy: 0.8784\n",
      "Epoch 7/10\n",
      "148/148 [==============================] - 1s 5ms/step - loss: 0.0415 - accuracy: 0.9662 - val_loss: 0.1505 - val_accuracy: 0.8378\n",
      "Epoch 8/10\n",
      "148/148 [==============================] - 1s 6ms/step - loss: 0.0330 - accuracy: 0.9662 - val_loss: 0.1349 - val_accuracy: 0.8784\n",
      "Epoch 9/10\n",
      "148/148 [==============================] - 1s 6ms/step - loss: 0.0296 - accuracy: 0.9662 - val_loss: 0.1419 - val_accuracy: 0.8378\n",
      "Epoch 1/10\n",
      "148/148 [==============================] - 1s 5ms/step - loss: 0.0694 - accuracy: 0.9392 - val_loss: 0.0227 - val_accuracy: 0.9730\n",
      "Epoch 2/10\n",
      "148/148 [==============================] - 1s 5ms/step - loss: 0.0264 - accuracy: 0.9797 - val_loss: 0.0351 - val_accuracy: 0.9595\n",
      "Epoch 3/10\n",
      "148/148 [==============================] - 1s 6ms/step - loss: 0.0207 - accuracy: 0.9797 - val_loss: 0.0333 - val_accuracy: 0.9730\n",
      "Epoch 4/10\n",
      "148/148 [==============================] - 1s 5ms/step - loss: 0.0158 - accuracy: 0.9797 - val_loss: 0.0428 - val_accuracy: 0.9595\n",
      "Epoch 1/10\n",
      "148/148 [==============================] - 1s 5ms/step - loss: 0.0240 - accuracy: 0.9730 - val_loss: 0.0190 - val_accuracy: 0.9865\n",
      "Epoch 2/10\n",
      "148/148 [==============================] - 1s 5ms/step - loss: 0.0168 - accuracy: 0.9865 - val_loss: 0.0114 - val_accuracy: 0.9865\n",
      "Epoch 3/10\n",
      "148/148 [==============================] - 1s 6ms/step - loss: 0.0132 - accuracy: 0.9865 - val_loss: 0.0170 - val_accuracy: 0.9865\n",
      "Epoch 4/10\n",
      "148/148 [==============================] - 1s 5ms/step - loss: 0.0094 - accuracy: 1.0000 - val_loss: 0.0260 - val_accuracy: 0.9865\n",
      "Epoch 5/10\n",
      "148/148 [==============================] - 1s 5ms/step - loss: 0.0070 - accuracy: 1.0000 - val_loss: 0.0152 - val_accuracy: 0.9865\n"
     ]
    }
   ],
   "source": [
    "max_features = 10000\n",
    "sequence_length = 250\n",
    "epochs = 10\n",
    "folds = 3\n",
    "\n",
    "def custom_standardization(input_data):\n",
    "    return tf.strings.lower(input_data)\n",
    "\n",
    "def get_vectorize_layer(column):\n",
    "    vectorize_layer = tf.keras.layers.TextVectorization(\n",
    "        standardize=custom_standardization,\n",
    "        max_tokens=max_features,\n",
    "        output_mode='int',\n",
    "        output_sequence_length=sequence_length\n",
    "    )\n",
    "    vectorize_layer.adapt(data[column])\n",
    "    return vectorize_layer\n",
    "\n",
    "def get_string_lookup(column):\n",
    "    lookup = tf.keras.layers.StringLookup(\n",
    "        output_mode='one_hot',\n",
    "        max_tokens=sequence_length,\n",
    "        pad_to_max_tokens=True,\n",
    "    )\n",
    "    lookup.adapt(data[column])\n",
    "    return lookup\n",
    "\n",
    "inputs = tf.keras.Input(shape=(len(feature_names),), dtype=tf.string)\n",
    "outputs = []\n",
    "for i in range(len(feature_names)):\n",
    "    feature_name = feature_names[i]\n",
    "    flatten = tf.keras.layers.Flatten()\n",
    "    if(feature_name == \"latitude\" or feature_name == \"longitude\"):\n",
    "        outputs.append(flatten(tf.strings.to_number(inputs[:,i], out_type=tf.dtypes.float32)))\n",
    "    else:\n",
    "        embedding_layer = tf.keras.layers.Embedding(max_features, 5)\n",
    "        if(feature_name == \"words\" or feature_name == \"aux\"):\n",
    "            layer = get_vectorize_layer(feature_name)\n",
    "        else:\n",
    "            layer = get_string_lookup(feature_name)\n",
    "        outputs.append(tf.keras.layers.Flatten()(embedding_layer(layer(flatten(inputs[:,i])))))\n",
    "    \n",
    "    \n",
    "outputs = tf.concat(outputs, axis=-1)\n",
    "\n",
    "sequential_model = tf.keras.Sequential([\n",
    "    #tf.keras.layers.Flatten(),\n",
    "    # tf.keras.Input(shape=outputs.shape[1:]),\n",
    "    # tf.keras.layers.Conv1D(16, 3, activation='relu'),\n",
    "    # tf.keras.layers.MaxPooling1D(),\n",
    "    # tf.keras.layers.Conv1D(32, 3, padding='same', activation='relu'),\n",
    "    # tf.keras.layers.MaxPooling1D(),\n",
    "    # tf.keras.layers.Conv1D(64, 3, padding='same', activation='relu'),\n",
    "    # tf.keras.layers.MaxPooling1D(),\n",
    "    # tf.keras.layers.Conv1D(128, 3, padding='same', activation='relu'),\n",
    "    # tf.keras.layers.MaxPooling1D(),\n",
    "    # tf.keras.layers.Conv1D(256, 3, padding='same', activation='relu'),\n",
    "    # tf.keras.layers.MaxPooling1D(),\n",
    "    \n",
    "    tf.keras.layers.Flatten(),\n",
    "    tf.keras.layers.Dense(15, activation='relu'),\n",
    "    #tf.keras.layers.Dense(5, activation='relu'),\n",
    "    #tf.keras.layers.GlobalAveragePooling1D(),\n",
    "    #tf.keras.layers.Dropout(0.2),\n",
    "    tf.keras.layers.Dense(5)\n",
    "])\n",
    "\n",
    "\n",
    "model = tf.keras.Model(inputs=inputs, outputs=sequential_model(outputs) )\n",
    "model.compile(\n",
    "    optimizer='adam',\n",
    "    loss=tf.keras.losses.BinaryCrossentropy(from_logits=True),\n",
    "    metrics=['accuracy']\n",
    ")\n",
    "\n",
    "model.summary()\n",
    "sequential_model.summary()\n",
    "\n",
    "kfold = KFold(n_splits=folds, shuffle=True)\n",
    "\n",
    "histories = []\n",
    "for train, validation in kfold.split(X_train, y_train):\n",
    "    history = model.fit(\n",
    "        X_train.iloc[train],\n",
    "        y_train[train],\n",
    "        validation_data=(X_train.iloc[validation], y_train[validation]),\n",
    "        epochs=epochs,\n",
    "        batch_size=1,\n",
    "        callbacks=[tf.keras.callbacks.EarlyStopping(monitor='val_loss', patience=3)]\n",
    "    )\n",
    "    histories.append(history)"
   ]
  },
  {
   "cell_type": "code",
   "execution_count": 26,
   "id": "64c40bdf-5456-497c-8ad1-6b6428638807",
   "metadata": {
    "tags": []
   },
   "outputs": [
    {
     "name": "stdout",
     "output_type": "stream",
     "text": [
      "4/4 [==============================] - 0s 9ms/step - loss: 0.4021 - accuracy: 0.8000\n"
     ]
    },
    {
     "data": {
      "text/plain": [
       "[0.4021042287349701, 0.800000011920929]"
      ]
     },
     "execution_count": 26,
     "metadata": {},
     "output_type": "execute_result"
    }
   ],
   "source": [
    "model.evaluate(X_test, y_test)"
   ]
  },
  {
   "cell_type": "code",
   "execution_count": 17,
   "id": "7d7df47c-8b0d-4b44-bfc3-f8d08f731843",
   "metadata": {
    "tags": []
   },
   "outputs": [
    {
     "data": {
      "image/png": "[encoded data removed]",
      "text/plain": [
       "<Figure size 576x576 with 2 Axes>"
      ]
     },
     "metadata": {
      "needs_background": "light"
     },
     "output_type": "display_data"
    }
   ],
   "source": [
    "acc = []\n",
    "val_acc = []\n",
    "loss = []\n",
    "val_loss = []\n",
    "for history in histories:\n",
    "    acc = acc + history.history['accuracy']\n",
    "    val_acc = val_acc + history.history['val_accuracy']\n",
    "\n",
    "    loss = loss + history.history['loss']\n",
    "    val_loss = val_loss + history.history['val_loss']\n",
    "    \n",
    "\n",
    "epochs_range = range(len(acc))\n",
    "\n",
    "pyplot.figure(figsize=(8, 8))\n",
    "pyplot.subplot(1, 2, 1)\n",
    "pyplot.plot(epochs_range, acc, label='Training Accuracy')\n",
    "pyplot.plot(epochs_range, val_acc, label='Validation Accuracy')\n",
    "pyplot.legend(loc='lower right')\n",
    "pyplot.title('Training and Validation Accuracy')\n",
    "\n",
    "pyplot.subplot(1, 2, 2)\n",
    "pyplot.plot(epochs_range, loss, label='Training Loss')\n",
    "pyplot.plot(epochs_range, val_loss, label='Validation Loss')\n",
    "pyplot.legend(loc='upper right')\n",
    "pyplot.title('Training and Validation Loss')\n",
    "pyplot.show()"
   ]
  },
  {
   "cell_type": "code",
   "execution_count": 27,
   "id": "9bf16f3e-a940-453e-b25e-f41bee3558e5",
   "metadata": {
    "tags": []
   },
   "outputs": [
    {
     "data": {
      "text/html": [
       "<div>\n",
       "<style scoped>\n",
       "    .dataframe tbody tr th:only-of-type {\n",
       "        vertical-align: middle;\n",
       "    }\n",
       "\n",
       "    .dataframe tbody tr th {\n",
       "        vertical-align: top;\n",
       "    }\n",
       "\n",
       "    .dataframe thead th {\n",
       "        text-align: right;\n",
       "    }\n",
       "</style>\n",
       "<table border=\"1\" class=\"dataframe\">\n",
       "  <thead>\n",
       "    <tr style=\"text-align: right;\">\n",
       "      <th></th>\n",
       "      <th>actual</th>\n",
       "      <th>predicted</th>\n",
       "    </tr>\n",
       "  </thead>\n",
       "  <tbody>\n",
       "    <tr>\n",
       "      <th>0</th>\n",
       "      <td>defacement</td>\n",
       "      <td>defacement</td>\n",
       "    </tr>\n",
       "    <tr>\n",
       "      <th>1</th>\n",
       "      <td>benign</td>\n",
       "      <td>benign</td>\n",
       "    </tr>\n",
       "    <tr>\n",
       "      <th>2</th>\n",
       "      <td>defacement</td>\n",
       "      <td>defacement</td>\n",
       "    </tr>\n",
       "    <tr>\n",
       "      <th>3</th>\n",
       "      <td>defacement</td>\n",
       "      <td>benign</td>\n",
       "    </tr>\n",
       "    <tr>\n",
       "      <th>4</th>\n",
       "      <td>defacement</td>\n",
       "      <td>defacement</td>\n",
       "    </tr>\n",
       "    <tr>\n",
       "      <th>...</th>\n",
       "      <td>...</td>\n",
       "      <td>...</td>\n",
       "    </tr>\n",
       "    <tr>\n",
       "      <th>105</th>\n",
       "      <td>defacement</td>\n",
       "      <td>defacement</td>\n",
       "    </tr>\n",
       "    <tr>\n",
       "      <th>106</th>\n",
       "      <td>defacement</td>\n",
       "      <td>defacement</td>\n",
       "    </tr>\n",
       "    <tr>\n",
       "      <th>107</th>\n",
       "      <td>defacement</td>\n",
       "      <td>benign</td>\n",
       "    </tr>\n",
       "    <tr>\n",
       "      <th>108</th>\n",
       "      <td>defacement</td>\n",
       "      <td>defacement</td>\n",
       "    </tr>\n",
       "    <tr>\n",
       "      <th>109</th>\n",
       "      <td>benign</td>\n",
       "      <td>benign</td>\n",
       "    </tr>\n",
       "  </tbody>\n",
       "</table>\n",
       "<p>110 rows × 2 columns</p>\n",
       "</div>"
      ],
      "text/plain": [
       "         actual   predicted\n",
       "0    defacement  defacement\n",
       "1        benign      benign\n",
       "2    defacement  defacement\n",
       "3    defacement      benign\n",
       "4    defacement  defacement\n",
       "..          ...         ...\n",
       "105  defacement  defacement\n",
       "106  defacement  defacement\n",
       "107  defacement      benign\n",
       "108  defacement  defacement\n",
       "109      benign      benign\n",
       "\n",
       "[110 rows x 2 columns]"
      ]
     },
     "execution_count": 27,
     "metadata": {},
     "output_type": "execute_result"
    }
   ],
   "source": [
    "def to_type(one_hot_encoding):\n",
    "    return sl.get_vocabulary()[np.argmax(tf.nn.softmax(one_hot_encoding))]\n",
    "\n",
    "predictions = [ to_type(model.predict(X_test)[i]) for i in range(len(X_test)) ]\n",
    "actuals = [ to_type(y_test[i]) for i in range(len(y_test)) ]\n",
    "\n",
    "pd.DataFrame(np.array([actuals, predictions]).T, columns=[\"actual\", \"predicted\"])"
   ]
  },
  {
   "cell_type": "code",
   "execution_count": 28,
   "id": "8e7a0ffd-49fc-4b77-92ad-9a30c7166d7b",
   "metadata": {},
   "outputs": [],
   "source": [
    "def predict(url):\n",
    "    one = download_one(url)\n",
    "    if(one is None):\n",
    "        raise Exception(\"Failed to get data for this url\")\n",
    "    one = pd.DataFrame([one.values()], columns=list(one))\n",
    "    one[\"redirects\"] = one[\"redirects\"].astype(str)\n",
    "    one[\"latitude\"] = one[\"latitude\"].astype(str)\n",
    "    one[\"longitude\"] = one[\"longitude\"].astype(str)\n",
    "    return to_type(model.predict(one[feature_names]))"
   ]
  },
  {
   "cell_type": "code",
   "execution_count": 29,
   "id": "9ad6e37d-fffd-4358-934d-a794d8d6661e",
   "metadata": {
    "tags": []
   },
   "outputs": [
    {
     "data": {
      "application/vnd.jupyter.widget-view+json": {
       "model_id": "67a7f3b0e56846428dc9e6acdbe1884d",
       "version_major": 2,
       "version_minor": 0
      },
      "text/plain": [
       "  0%|          | 0/17 [00:00<?, ?it/s]"
      ]
     },
     "metadata": {},
     "output_type": "display_data"
    },
    {
     "name": "stdout",
     "output_type": "stream",
     "text": [
      "benign\n"
     ]
    }
   ],
   "source": [
    "#print(predict(\"https://www.watchcartoonslive.la/watch/clarissa-explains-it-all-(1991a-1994)\"))\n",
    "print(predict(\"gogle.com\"))\n",
    "#print(predict(\"https://cnn.com/\"))\n",
    "#print(predict(\"https://love.com/\"))"
   ]
  },
  {
   "cell_type": "markdown",
   "id": "55ec7f3f-4ea8-4bcc-a946-30728bdc02c7",
   "metadata": {},
   "source": [
    "## TODO\n",
    "1. Run this on the entire raw_data set\n",
    "2. Do one-hot-encoding for the city, region, country, and type (probably using tensorflow/keras/sklearn)\n",
    "3. Do text encoding on url and content (probably using tensorflow/keras/sklearn)\n",
    "4. Split training and testing (using tensorflow/keras/sklearn)\n",
    "5. Implement K-Fold cross-validation (probably using tensorflow/keras/sklearn)\n",
    "6. Train CNN using tensorflow/keras/sklearn\n",
    "7. Optinally, fine tune hyperparameters (e.g. epochs, activation function, layers, etc.)\n",
    "8. Graph results\n",
    "\n",
    "\n",
    "\n",
    "Add Normalize layers"
   ]
  },
  {
   "cell_type": "code",
   "execution_count": null,
   "id": "4e5bc86e-9cad-4c4f-83d8-b15f437cafe7",
   "metadata": {},
   "outputs": [],
   "source": []
  }
 ],
 "metadata": {
  "kernelspec": {
   "display_name": "Python 3 (ipykernel)",
   "language": "python",
   "name": "python3"
  },
  "language_info": {
   "codemirror_mode": {
    "name": "ipython",
    "version": 3
   },
   "file_extension": ".py",
   "mimetype": "text/x-python",
   "name": "python",
   "nbconvert_exporter": "python",
   "pygments_lexer": "ipython3",
   "version": "3.8.10"
  }
 },
 "nbformat": 4,
 "nbformat_minor": 5
}
